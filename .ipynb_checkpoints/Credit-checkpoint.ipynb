{
 "cells": [
  {
   "cell_type": "code",
   "execution_count": 1,
   "id": "8bb77e26",
   "metadata": {},
   "outputs": [],
   "source": [
    "import numpy as np\n",
    "import pandas as pd\n",
    "import matplotlib.pyplot as plt\n",
    "import seaborn as sns\n",
    "\n",
    "from sklearn.preprocessing import LabelEncoder\n",
    "\n",
    "from sklearn.model_selection import StratifiedShuffleSplit#, train_test_split\n",
    "\n",
    "from sklearn.linear_model import LogisticRegression\n",
    "from sklearn.neighbors import KNeighborsClassifier\n",
    "from sklearn.tree import DecisionTreeClassifier\n",
    "\n",
    "from sklearn.metrics import accuracy_score\n",
    "\n",
    "import pickle #pour le depoilement"
   ]
  },
  {
   "cell_type": "code",
   "execution_count": 2,
   "id": "7f2bfaf8",
   "metadata": {},
   "outputs": [
    {
     "data": {
      "text/html": [
       "<div>\n",
       "<style scoped>\n",
       "    .dataframe tbody tr th:only-of-type {\n",
       "        vertical-align: middle;\n",
       "    }\n",
       "\n",
       "    .dataframe tbody tr th {\n",
       "        vertical-align: top;\n",
       "    }\n",
       "\n",
       "    .dataframe thead th {\n",
       "        text-align: right;\n",
       "    }\n",
       "</style>\n",
       "<table border=\"1\" class=\"dataframe\">\n",
       "  <thead>\n",
       "    <tr style=\"text-align: right;\">\n",
       "      <th></th>\n",
       "      <th>Loan_ID</th>\n",
       "      <th>Gender</th>\n",
       "      <th>Married</th>\n",
       "      <th>Dependents</th>\n",
       "      <th>Education</th>\n",
       "      <th>Self_Employed</th>\n",
       "      <th>ApplicantIncome</th>\n",
       "      <th>CoapplicantIncome</th>\n",
       "      <th>LoanAmount</th>\n",
       "      <th>Loan_Amount_Term</th>\n",
       "      <th>Credit_History</th>\n",
       "      <th>Property_Area</th>\n",
       "    </tr>\n",
       "  </thead>\n",
       "  <tbody>\n",
       "    <tr>\n",
       "      <th>0</th>\n",
       "      <td>LP001002</td>\n",
       "      <td>Male</td>\n",
       "      <td>No</td>\n",
       "      <td>0</td>\n",
       "      <td>Graduate</td>\n",
       "      <td>No</td>\n",
       "      <td>5849</td>\n",
       "      <td>0.0</td>\n",
       "      <td>NaN</td>\n",
       "      <td>360.0</td>\n",
       "      <td>1.0</td>\n",
       "      <td>Urban</td>\n",
       "    </tr>\n",
       "    <tr>\n",
       "      <th>1</th>\n",
       "      <td>LP001003</td>\n",
       "      <td>Male</td>\n",
       "      <td>Yes</td>\n",
       "      <td>1</td>\n",
       "      <td>Graduate</td>\n",
       "      <td>No</td>\n",
       "      <td>4583</td>\n",
       "      <td>1508.0</td>\n",
       "      <td>128.0</td>\n",
       "      <td>360.0</td>\n",
       "      <td>1.0</td>\n",
       "      <td>Rural</td>\n",
       "    </tr>\n",
       "    <tr>\n",
       "      <th>2</th>\n",
       "      <td>LP001005</td>\n",
       "      <td>Male</td>\n",
       "      <td>Yes</td>\n",
       "      <td>0</td>\n",
       "      <td>Graduate</td>\n",
       "      <td>Yes</td>\n",
       "      <td>3000</td>\n",
       "      <td>0.0</td>\n",
       "      <td>66.0</td>\n",
       "      <td>360.0</td>\n",
       "      <td>1.0</td>\n",
       "      <td>Urban</td>\n",
       "    </tr>\n",
       "    <tr>\n",
       "      <th>3</th>\n",
       "      <td>LP001006</td>\n",
       "      <td>Male</td>\n",
       "      <td>Yes</td>\n",
       "      <td>0</td>\n",
       "      <td>Not Graduate</td>\n",
       "      <td>No</td>\n",
       "      <td>2583</td>\n",
       "      <td>2358.0</td>\n",
       "      <td>120.0</td>\n",
       "      <td>360.0</td>\n",
       "      <td>1.0</td>\n",
       "      <td>Urban</td>\n",
       "    </tr>\n",
       "    <tr>\n",
       "      <th>4</th>\n",
       "      <td>LP001008</td>\n",
       "      <td>Male</td>\n",
       "      <td>No</td>\n",
       "      <td>0</td>\n",
       "      <td>Graduate</td>\n",
       "      <td>No</td>\n",
       "      <td>6000</td>\n",
       "      <td>0.0</td>\n",
       "      <td>141.0</td>\n",
       "      <td>360.0</td>\n",
       "      <td>1.0</td>\n",
       "      <td>Urban</td>\n",
       "    </tr>\n",
       "  </tbody>\n",
       "</table>\n",
       "</div>"
      ],
      "text/plain": [
       "    Loan_ID Gender Married Dependents     Education Self_Employed  \\\n",
       "0  LP001002   Male      No          0      Graduate            No   \n",
       "1  LP001003   Male     Yes          1      Graduate            No   \n",
       "2  LP001005   Male     Yes          0      Graduate           Yes   \n",
       "3  LP001006   Male     Yes          0  Not Graduate            No   \n",
       "4  LP001008   Male      No          0      Graduate            No   \n",
       "\n",
       "   ApplicantIncome  CoapplicantIncome  LoanAmount  Loan_Amount_Term  \\\n",
       "0             5849                0.0         NaN             360.0   \n",
       "1             4583             1508.0       128.0             360.0   \n",
       "2             3000                0.0        66.0             360.0   \n",
       "3             2583             2358.0       120.0             360.0   \n",
       "4             6000                0.0       141.0             360.0   \n",
       "\n",
       "   Credit_History Property_Area  \n",
       "0             1.0         Urban  \n",
       "1             1.0         Rural  \n",
       "2             1.0         Urban  \n",
       "3             1.0         Urban  \n",
       "4             1.0         Urban  "
      ]
     },
     "execution_count": 2,
     "metadata": {},
     "output_type": "execute_result"
    }
   ],
   "source": [
    "df = pd.read_csv('train_data.csv')\n",
    "\n",
    "target = df['Loan_Status']\n",
    "df.drop('Loan_Status' , axis=1, inplace=True)\n",
    "\n",
    "df.head(5)\n",
    "#df['Education'].value_counts()\n",
    "\n",
    "#df.shape = (614, 13)\n",
    "#Pour voir toute la base de donnes\n",
    "#pd. set_option('display.max_rows' , df.shape[0] + 1) //df.shape[0] + 1 --> 614"
   ]
  },
  {
   "cell_type": "markdown",
   "id": "761131c4",
   "metadata": {},
   "source": [
    "# 1- voir les valeurs manquantes"
   ]
  },
  {
   "cell_type": "markdown",
   "id": "36038000",
   "metadata": {},
   "source": [
    "### voir les valeurs manquantes"
   ]
  },
  {
   "cell_type": "code",
   "execution_count": 4,
   "id": "29652185",
   "metadata": {},
   "outputs": [
    {
     "name": "stdout",
     "output_type": "stream",
     "text": [
      "<class 'pandas.core.frame.DataFrame'>\n",
      "RangeIndex: 614 entries, 0 to 613\n",
      "Data columns (total 12 columns):\n",
      " #   Column             Non-Null Count  Dtype  \n",
      "---  ------             --------------  -----  \n",
      " 0   Loan_ID            614 non-null    object \n",
      " 1   Gender             601 non-null    object \n",
      " 2   Married            611 non-null    object \n",
      " 3   Dependents         599 non-null    object \n",
      " 4   Education          614 non-null    object \n",
      " 5   Self_Employed      582 non-null    object \n",
      " 6   ApplicantIncome    614 non-null    int64  \n",
      " 7   CoapplicantIncome  614 non-null    float64\n",
      " 8   LoanAmount         592 non-null    float64\n",
      " 9   Loan_Amount_Term   600 non-null    float64\n",
      " 10  Credit_History     564 non-null    float64\n",
      " 11  Property_Area      614 non-null    object \n",
      "dtypes: float64(4), int64(1), object(7)\n",
      "memory usage: 57.7+ KB\n"
     ]
    }
   ],
   "source": [
    "df.info()"
   ]
  },
  {
   "cell_type": "code",
   "execution_count": 5,
   "id": "7c817776",
   "metadata": {},
   "outputs": [
    {
     "data": {
      "text/plain": [
       "Credit_History       50\n",
       "Self_Employed        32\n",
       "LoanAmount           22\n",
       "Dependents           15\n",
       "Loan_Amount_Term     14\n",
       "Gender               13\n",
       "Married               3\n",
       "Loan_ID               0\n",
       "Education             0\n",
       "ApplicantIncome       0\n",
       "CoapplicantIncome     0\n",
       "Property_Area         0\n",
       "dtype: int64"
      ]
     },
     "execution_count": 5,
     "metadata": {},
     "output_type": "execute_result"
    }
   ],
   "source": [
    "df.isnull().sum().sort_values(ascending=False)"
   ]
  },
  {
   "cell_type": "code",
   "execution_count": 6,
   "id": "e74096b9",
   "metadata": {},
   "outputs": [],
   "source": [
    "#df.describe() # == df.describe(include='number')\n",
    "#option : number, all, object, ... --> display (df.dtypes)"
   ]
  },
  {
   "cell_type": "code",
   "execution_count": 7,
   "id": "59f3251d",
   "metadata": {},
   "outputs": [
    {
     "data": {
      "text/html": [
       "<div>\n",
       "<style scoped>\n",
       "    .dataframe tbody tr th:only-of-type {\n",
       "        vertical-align: middle;\n",
       "    }\n",
       "\n",
       "    .dataframe tbody tr th {\n",
       "        vertical-align: top;\n",
       "    }\n",
       "\n",
       "    .dataframe thead th {\n",
       "        text-align: right;\n",
       "    }\n",
       "</style>\n",
       "<table border=\"1\" class=\"dataframe\">\n",
       "  <thead>\n",
       "    <tr style=\"text-align: right;\">\n",
       "      <th></th>\n",
       "      <th>Loan_ID</th>\n",
       "      <th>Gender</th>\n",
       "      <th>Married</th>\n",
       "      <th>Dependents</th>\n",
       "      <th>Education</th>\n",
       "      <th>Self_Employed</th>\n",
       "      <th>Property_Area</th>\n",
       "    </tr>\n",
       "  </thead>\n",
       "  <tbody>\n",
       "    <tr>\n",
       "      <th>count</th>\n",
       "      <td>614</td>\n",
       "      <td>601</td>\n",
       "      <td>611</td>\n",
       "      <td>599</td>\n",
       "      <td>614</td>\n",
       "      <td>582</td>\n",
       "      <td>614</td>\n",
       "    </tr>\n",
       "    <tr>\n",
       "      <th>unique</th>\n",
       "      <td>614</td>\n",
       "      <td>2</td>\n",
       "      <td>2</td>\n",
       "      <td>4</td>\n",
       "      <td>2</td>\n",
       "      <td>2</td>\n",
       "      <td>3</td>\n",
       "    </tr>\n",
       "    <tr>\n",
       "      <th>top</th>\n",
       "      <td>LP001002</td>\n",
       "      <td>Male</td>\n",
       "      <td>Yes</td>\n",
       "      <td>0</td>\n",
       "      <td>Graduate</td>\n",
       "      <td>No</td>\n",
       "      <td>Semiurban</td>\n",
       "    </tr>\n",
       "    <tr>\n",
       "      <th>freq</th>\n",
       "      <td>1</td>\n",
       "      <td>489</td>\n",
       "      <td>398</td>\n",
       "      <td>345</td>\n",
       "      <td>480</td>\n",
       "      <td>500</td>\n",
       "      <td>233</td>\n",
       "    </tr>\n",
       "  </tbody>\n",
       "</table>\n",
       "</div>"
      ],
      "text/plain": [
       "         Loan_ID Gender Married Dependents Education Self_Employed  \\\n",
       "count        614    601     611        599       614           582   \n",
       "unique       614      2       2          4         2             2   \n",
       "top     LP001002   Male     Yes          0  Graduate            No   \n",
       "freq           1    489     398        345       480           500   \n",
       "\n",
       "       Property_Area  \n",
       "count            614  \n",
       "unique             3  \n",
       "top        Semiurban  \n",
       "freq             233  "
      ]
     },
     "execution_count": 7,
     "metadata": {},
     "output_type": "execute_result"
    }
   ],
   "source": [
    "df.describe(include='object')"
   ]
  },
  {
   "cell_type": "markdown",
   "id": "c6bf2d4d",
   "metadata": {},
   "source": [
    "### Renseigner les valeurs manquantes"
   ]
  },
  {
   "cell_type": "code",
   "execution_count": null,
   "id": "53b3f589",
   "metadata": {},
   "outputs": [],
   "source": []
  },
  {
   "cell_type": "code",
   "execution_count": 8,
   "id": "755be12f",
   "metadata": {},
   "outputs": [],
   "source": [
    "#segmenter data \n",
    "cat_data=[]\n",
    "num_data=[]\n",
    "\n",
    "for i,c in enumerate(df.dtypes):\n",
    "    if c==object:\n",
    "        cat_data.append(df.iloc[:,i])\n",
    "    else:\n",
    "        num_data.append(df.iloc[:,i])\n",
    "\n",
    "cat_data = pd.DataFrame(cat_data).transpose()\n",
    "num_data = pd.DataFrame(num_data).transpose()\n",
    "\n",
    "#deuxieme methode pour segmenter data\n",
    "#from sklearn.compose import make_column_selector\n",
    "\n",
    "#categorical_features = make_column_selector(dtype_include='object')\n",
    "#cat_data2 = df[categorical_features(df)]\n",
    "\n",
    "#numerical_features = make_column_selector(dtype_exclude='object')\n",
    "#num_data2 = df[numerical_features(df)]"
   ]
  },
  {
   "cell_type": "code",
   "execution_count": null,
   "id": "0aa6ce3c",
   "metadata": {},
   "outputs": [],
   "source": []
  },
  {
   "cell_type": "code",
   "execution_count": 9,
   "id": "780e488b",
   "metadata": {},
   "outputs": [
    {
     "data": {
      "text/plain": [
       "False"
      ]
     },
     "execution_count": 9,
     "metadata": {},
     "output_type": "execute_result"
    }
   ],
   "source": [
    "#Pour les catégoriques on va remplacer les valeurs manquantes par les valeurs qui se repetent le plus\n",
    "\n",
    "cat_data = cat_data.apply(lambda x:x.fillna(x.value_counts().index[0]))\n",
    "cat_data.isnull().sum().any()"
   ]
  },
  {
   "cell_type": "code",
   "execution_count": 10,
   "id": "8bd6fa52",
   "metadata": {},
   "outputs": [
    {
     "data": {
      "text/plain": [
       "False"
      ]
     },
     "execution_count": 10,
     "metadata": {},
     "output_type": "execute_result"
    }
   ],
   "source": [
    "#Pour les numériques on va remplacer les valeurs manquantes par la valeur précedente de la meme colonne\n",
    "\n",
    "num_data.fillna(method='bfill', inplace=True)\n",
    "num_data.isnull().sum().any()"
   ]
  },
  {
   "cell_type": "code",
   "execution_count": 11,
   "id": "84c3faee",
   "metadata": {},
   "outputs": [],
   "source": [
    "# Tranformer la colonne target (Loan_Status) de Y, N to 1, 0\n",
    "\n",
    "target_value={'Y':1, 'N':0}\n",
    "target=target.map(target_value)\n",
    "#target"
   ]
  },
  {
   "cell_type": "code",
   "execution_count": 12,
   "id": "297a4456",
   "metadata": {},
   "outputs": [],
   "source": [
    "# Remplacer les valeurs catégoriques par des valeurs numérique 0,1,2..\n",
    "\n",
    "l_encoder = LabelEncoder()\n",
    "\n",
    "for i in cat_data:\n",
    "    cat_data[i] = l_encoder.fit_transform(cat_data[i])\n",
    "#cat_data"
   ]
  },
  {
   "cell_type": "code",
   "execution_count": 13,
   "id": "7933a97d",
   "metadata": {},
   "outputs": [],
   "source": [
    "# Supprimer loan_id\n",
    "cat_data.drop('Loan_ID', axis = 1, inplace=True)"
   ]
  },
  {
   "cell_type": "code",
   "execution_count": 16,
   "id": "a02f6ea6",
   "metadata": {},
   "outputs": [
    {
     "data": {
      "text/html": [
       "<div>\n",
       "<style scoped>\n",
       "    .dataframe tbody tr th:only-of-type {\n",
       "        vertical-align: middle;\n",
       "    }\n",
       "\n",
       "    .dataframe tbody tr th {\n",
       "        vertical-align: top;\n",
       "    }\n",
       "\n",
       "    .dataframe thead th {\n",
       "        text-align: right;\n",
       "    }\n",
       "</style>\n",
       "<table border=\"1\" class=\"dataframe\">\n",
       "  <thead>\n",
       "    <tr style=\"text-align: right;\">\n",
       "      <th></th>\n",
       "      <th>Gender</th>\n",
       "      <th>Married</th>\n",
       "      <th>Dependents</th>\n",
       "      <th>Education</th>\n",
       "      <th>Self_Employed</th>\n",
       "      <th>Property_Area</th>\n",
       "    </tr>\n",
       "  </thead>\n",
       "  <tbody>\n",
       "    <tr>\n",
       "      <th>0</th>\n",
       "      <td>1</td>\n",
       "      <td>0</td>\n",
       "      <td>0</td>\n",
       "      <td>0</td>\n",
       "      <td>0</td>\n",
       "      <td>2</td>\n",
       "    </tr>\n",
       "    <tr>\n",
       "      <th>1</th>\n",
       "      <td>1</td>\n",
       "      <td>1</td>\n",
       "      <td>1</td>\n",
       "      <td>0</td>\n",
       "      <td>0</td>\n",
       "      <td>0</td>\n",
       "    </tr>\n",
       "    <tr>\n",
       "      <th>2</th>\n",
       "      <td>1</td>\n",
       "      <td>1</td>\n",
       "      <td>0</td>\n",
       "      <td>0</td>\n",
       "      <td>1</td>\n",
       "      <td>2</td>\n",
       "    </tr>\n",
       "    <tr>\n",
       "      <th>3</th>\n",
       "      <td>1</td>\n",
       "      <td>1</td>\n",
       "      <td>0</td>\n",
       "      <td>1</td>\n",
       "      <td>0</td>\n",
       "      <td>2</td>\n",
       "    </tr>\n",
       "    <tr>\n",
       "      <th>4</th>\n",
       "      <td>1</td>\n",
       "      <td>0</td>\n",
       "      <td>0</td>\n",
       "      <td>0</td>\n",
       "      <td>0</td>\n",
       "      <td>2</td>\n",
       "    </tr>\n",
       "    <tr>\n",
       "      <th>...</th>\n",
       "      <td>...</td>\n",
       "      <td>...</td>\n",
       "      <td>...</td>\n",
       "      <td>...</td>\n",
       "      <td>...</td>\n",
       "      <td>...</td>\n",
       "    </tr>\n",
       "    <tr>\n",
       "      <th>609</th>\n",
       "      <td>0</td>\n",
       "      <td>0</td>\n",
       "      <td>0</td>\n",
       "      <td>0</td>\n",
       "      <td>0</td>\n",
       "      <td>0</td>\n",
       "    </tr>\n",
       "    <tr>\n",
       "      <th>610</th>\n",
       "      <td>1</td>\n",
       "      <td>1</td>\n",
       "      <td>3</td>\n",
       "      <td>0</td>\n",
       "      <td>0</td>\n",
       "      <td>0</td>\n",
       "    </tr>\n",
       "    <tr>\n",
       "      <th>611</th>\n",
       "      <td>1</td>\n",
       "      <td>1</td>\n",
       "      <td>1</td>\n",
       "      <td>0</td>\n",
       "      <td>0</td>\n",
       "      <td>2</td>\n",
       "    </tr>\n",
       "    <tr>\n",
       "      <th>612</th>\n",
       "      <td>1</td>\n",
       "      <td>1</td>\n",
       "      <td>2</td>\n",
       "      <td>0</td>\n",
       "      <td>0</td>\n",
       "      <td>2</td>\n",
       "    </tr>\n",
       "    <tr>\n",
       "      <th>613</th>\n",
       "      <td>0</td>\n",
       "      <td>0</td>\n",
       "      <td>0</td>\n",
       "      <td>0</td>\n",
       "      <td>1</td>\n",
       "      <td>1</td>\n",
       "    </tr>\n",
       "  </tbody>\n",
       "</table>\n",
       "<p>614 rows × 6 columns</p>\n",
       "</div>"
      ],
      "text/plain": [
       "     Gender  Married  Dependents  Education  Self_Employed  Property_Area\n",
       "0         1        0           0          0              0              2\n",
       "1         1        1           1          0              0              0\n",
       "2         1        1           0          0              1              2\n",
       "3         1        1           0          1              0              2\n",
       "4         1        0           0          0              0              2\n",
       "..      ...      ...         ...        ...            ...            ...\n",
       "609       0        0           0          0              0              0\n",
       "610       1        1           3          0              0              0\n",
       "611       1        1           1          0              0              2\n",
       "612       1        1           2          0              0              2\n",
       "613       0        0           0          0              1              1\n",
       "\n",
       "[614 rows x 6 columns]"
      ]
     },
     "execution_count": 16,
     "metadata": {},
     "output_type": "execute_result"
    }
   ],
   "source": [
    "cat_data"
   ]
  },
  {
   "cell_type": "code",
   "execution_count": 17,
   "id": "52379d79",
   "metadata": {},
   "outputs": [],
   "source": [
    "# Concatener cat_Data et num_data et spécifier la colonne target\n",
    "\n",
    "df = X = pd.concat([cat_data, num_data, target] ,axis=1)\n",
    "X = pd.concat([cat_data, num_data] ,axis=1)\n",
    "y = target"
   ]
  },
  {
   "cell_type": "code",
   "execution_count": null,
   "id": "7fb1c5c6",
   "metadata": {},
   "outputs": [],
   "source": []
  },
  {
   "cell_type": "markdown",
   "id": "41216b74",
   "metadata": {},
   "source": [
    "# 2- EDA"
   ]
  },
  {
   "cell_type": "code",
   "execution_count": 18,
   "id": "87a3d998",
   "metadata": {},
   "outputs": [
    {
     "data": {
      "text/plain": [
       "1    422\n",
       "0    192\n",
       "Name: Loan_Status, dtype: int64"
      ]
     },
     "execution_count": 18,
     "metadata": {},
     "output_type": "execute_result"
    }
   ],
   "source": [
    "# on va commencer par la variable target\n",
    "target.value_counts() "
   ]
  },
  {
   "cell_type": "code",
   "execution_count": null,
   "id": "2b6e6567",
   "metadata": {},
   "outputs": [],
   "source": []
  },
  {
   "cell_type": "code",
   "execution_count": 19,
   "id": "f20f6427",
   "metadata": {},
   "outputs": [
    {
     "name": "stdout",
     "output_type": "stream",
     "text": [
      "le pourcentage des crédits accordés est: 0.3127035830618892\n",
      "le pourcentage des crédits non accordés est: 0.6872964169381107\n"
     ]
    },
    {
     "data": {
      "image/png": "[encoded data removed]",
      "text/plain": [
       "<Figure size 500x500 with 1 Axes>"
      ]
     },
     "metadata": {},
     "output_type": "display_data"
    }
   ],
   "source": [
    "plt.figure(figsize = (5, 5))\n",
    "sns.countplot(x = target)\n",
    "\n",
    "yes = target.value_counts()[0] / len(target)\n",
    "no = target.value_counts()[1] / len( target)\n",
    "\n",
    "print(f'le pourcentage des crédits accordés est: {yes}')\n",
    "print(f'le pourcentage des crédits non accordés est: {no}')"
   ]
  },
  {
   "cell_type": "code",
   "execution_count": 20,
   "id": "28a6353d",
   "metadata": {},
   "outputs": [
    {
     "data": {
      "text/plain": [
       "<seaborn.axisgrid.FacetGrid at 0x23ede915b50>"
      ]
     },
     "execution_count": 20,
     "metadata": {},
     "output_type": "execute_result"
    },
    {
     "data": {
      "image/png": "[encoded data removed]",
      "text/plain": [
       "<Figure size 1024x320 with 2 Axes>"
      ]
     },
     "metadata": {},
     "output_type": "display_data"
    }
   ],
   "source": [
    "# Credit history\n",
    "grid = sns.FacetGrid(df, col = 'Loan_Status', height=3.2, aspect=1.6)\n",
    "grid.map(sns.countplot, 'Gender', order=[0, 1]) # order=[0, 1] : Spécifiez l'ordre des catégories sur l'axe y"
   ]
  },
  {
   "cell_type": "code",
   "execution_count": null,
   "id": "a272d1c5",
   "metadata": {},
   "outputs": [],
   "source": []
  },
  {
   "cell_type": "code",
   "execution_count": 23,
   "id": "aea0eba5",
   "metadata": {},
   "outputs": [
    {
     "data": {
      "text/plain": [
       "<seaborn.axisgrid.FacetGrid at 0x23edf3605b0>"
      ]
     },
     "execution_count": 23,
     "metadata": {},
     "output_type": "execute_result"
    },
    {
     "data": {
      "image/png": "[encoded data removed]",
      "text/plain": [
       "<Figure size 1024x320 with 2 Axes>"
      ]
     },
     "metadata": {},
     "output_type": "display_data"
    }
   ],
   "source": [
    "# Married\n",
    "grid = sns.FacetGrid(df, col = 'Loan_Status', height=3.2, aspect=1.6)\n",
    "grid.map(sns.countplot, 'Married', order=[0, 1])"
   ]
  },
  {
   "cell_type": "code",
   "execution_count": 146,
   "id": "8891cc73",
   "metadata": {},
   "outputs": [],
   "source": [
    "# Education\n",
    "#grid = sns.FacetGrid(df, col = 'Loan_Status', height=3.2, aspect=1.6)\n",
    "#grid.map(sns.countplot, 'Education', order=[0, 1])"
   ]
  },
  {
   "cell_type": "code",
   "execution_count": 24,
   "id": "fe9a5c9f",
   "metadata": {},
   "outputs": [
    {
     "data": {
      "text/plain": [
       "<matplotlib.collections.PathCollection at 0x23edf80efa0>"
      ]
     },
     "execution_count": 24,
     "metadata": {},
     "output_type": "execute_result"
    },
    {
     "data": {
      "image/png": "[encoded data removed]",
      "text/plain": [
       "<Figure size 640x480 with 1 Axes>"
      ]
     },
     "metadata": {},
     "output_type": "display_data"
    }
   ],
   "source": [
    "# revenu du demandeur\n",
    "plt. scatter(df['ApplicantIncome'], df['Loan_Status'])\n",
    "\n",
    "# revenu du conjoint\n",
    "plt. scatter(df['CoapplicantIncome'], df['Loan_Status'])\n",
    "\n",
    "#on remarque qu'il n'ya pas vraimente un impacte"
   ]
  },
  {
   "cell_type": "code",
   "execution_count": null,
   "id": "e2759ba3",
   "metadata": {},
   "outputs": [],
   "source": []
  },
  {
   "cell_type": "code",
   "execution_count": 25,
   "id": "5bbbf6ac",
   "metadata": {},
   "outputs": [
    {
     "data": {
      "text/html": [
       "<div>\n",
       "<style scoped>\n",
       "    .dataframe tbody tr th:only-of-type {\n",
       "        vertical-align: middle;\n",
       "    }\n",
       "\n",
       "    .dataframe tbody tr th {\n",
       "        vertical-align: top;\n",
       "    }\n",
       "\n",
       "    .dataframe thead th {\n",
       "        text-align: right;\n",
       "    }\n",
       "</style>\n",
       "<table border=\"1\" class=\"dataframe\">\n",
       "  <thead>\n",
       "    <tr style=\"text-align: right;\">\n",
       "      <th></th>\n",
       "      <th>Gender</th>\n",
       "      <th>Married</th>\n",
       "      <th>Dependents</th>\n",
       "      <th>Education</th>\n",
       "      <th>Self_Employed</th>\n",
       "      <th>Property_Area</th>\n",
       "      <th>ApplicantIncome</th>\n",
       "      <th>CoapplicantIncome</th>\n",
       "      <th>LoanAmount</th>\n",
       "      <th>Loan_Amount_Term</th>\n",
       "      <th>Credit_History</th>\n",
       "    </tr>\n",
       "    <tr>\n",
       "      <th>Loan_Status</th>\n",
       "      <th></th>\n",
       "      <th></th>\n",
       "      <th></th>\n",
       "      <th></th>\n",
       "      <th></th>\n",
       "      <th></th>\n",
       "      <th></th>\n",
       "      <th></th>\n",
       "      <th></th>\n",
       "      <th></th>\n",
       "      <th></th>\n",
       "    </tr>\n",
       "  </thead>\n",
       "  <tbody>\n",
       "    <tr>\n",
       "      <th>0</th>\n",
       "      <td>1.0</td>\n",
       "      <td>1.0</td>\n",
       "      <td>0.0</td>\n",
       "      <td>0.0</td>\n",
       "      <td>0.0</td>\n",
       "      <td>1.0</td>\n",
       "      <td>3833.5</td>\n",
       "      <td>268.0</td>\n",
       "      <td>132.5</td>\n",
       "      <td>360.0</td>\n",
       "      <td>1.0</td>\n",
       "    </tr>\n",
       "    <tr>\n",
       "      <th>1</th>\n",
       "      <td>1.0</td>\n",
       "      <td>1.0</td>\n",
       "      <td>0.0</td>\n",
       "      <td>0.0</td>\n",
       "      <td>0.0</td>\n",
       "      <td>1.0</td>\n",
       "      <td>3812.5</td>\n",
       "      <td>1239.5</td>\n",
       "      <td>127.5</td>\n",
       "      <td>360.0</td>\n",
       "      <td>1.0</td>\n",
       "    </tr>\n",
       "  </tbody>\n",
       "</table>\n",
       "</div>"
      ],
      "text/plain": [
       "             Gender  Married  Dependents  Education  Self_Employed  \\\n",
       "Loan_Status                                                          \n",
       "0               1.0      1.0         0.0        0.0            0.0   \n",
       "1               1.0      1.0         0.0        0.0            0.0   \n",
       "\n",
       "             Property_Area  ApplicantIncome  CoapplicantIncome  LoanAmount  \\\n",
       "Loan_Status                                                                  \n",
       "0                      1.0           3833.5              268.0       132.5   \n",
       "1                      1.0           3812.5             1239.5       127.5   \n",
       "\n",
       "             Loan_Amount_Term  Credit_History  \n",
       "Loan_Status                                    \n",
       "0                       360.0             1.0  \n",
       "1                       360.0             1.0  "
      ]
     },
     "execution_count": 25,
     "metadata": {},
     "output_type": "execute_result"
    }
   ],
   "source": [
    "df.groupby('Loan_Status').median()"
   ]
  },
  {
   "cell_type": "code",
   "execution_count": 26,
   "id": "143cb759",
   "metadata": {},
   "outputs": [
    {
     "data": {
      "text/html": [
       "<div>\n",
       "<style scoped>\n",
       "    .dataframe tbody tr th:only-of-type {\n",
       "        vertical-align: middle;\n",
       "    }\n",
       "\n",
       "    .dataframe tbody tr th {\n",
       "        vertical-align: top;\n",
       "    }\n",
       "\n",
       "    .dataframe thead th {\n",
       "        text-align: right;\n",
       "    }\n",
       "</style>\n",
       "<table border=\"1\" class=\"dataframe\">\n",
       "  <thead>\n",
       "    <tr style=\"text-align: right;\">\n",
       "      <th></th>\n",
       "      <th>Gender</th>\n",
       "      <th>Married</th>\n",
       "      <th>Dependents</th>\n",
       "      <th>Education</th>\n",
       "      <th>Self_Employed</th>\n",
       "      <th>Property_Area</th>\n",
       "      <th>ApplicantIncome</th>\n",
       "      <th>CoapplicantIncome</th>\n",
       "      <th>LoanAmount</th>\n",
       "      <th>Loan_Amount_Term</th>\n",
       "      <th>Credit_History</th>\n",
       "    </tr>\n",
       "    <tr>\n",
       "      <th>Loan_Status</th>\n",
       "      <th></th>\n",
       "      <th></th>\n",
       "      <th></th>\n",
       "      <th></th>\n",
       "      <th></th>\n",
       "      <th></th>\n",
       "      <th></th>\n",
       "      <th></th>\n",
       "      <th></th>\n",
       "      <th></th>\n",
       "      <th></th>\n",
       "    </tr>\n",
       "  </thead>\n",
       "  <tbody>\n",
       "    <tr>\n",
       "      <th>0</th>\n",
       "      <td>0.807292</td>\n",
       "      <td>0.588542</td>\n",
       "      <td>0.729167</td>\n",
       "      <td>0.270833</td>\n",
       "      <td>0.135417</td>\n",
       "      <td>1.000000</td>\n",
       "      <td>5446.078125</td>\n",
       "      <td>1877.807292</td>\n",
       "      <td>151.432292</td>\n",
       "      <td>344.56250</td>\n",
       "      <td>0.562500</td>\n",
       "    </tr>\n",
       "    <tr>\n",
       "      <th>1</th>\n",
       "      <td>0.822275</td>\n",
       "      <td>0.682464</td>\n",
       "      <td>0.751185</td>\n",
       "      <td>0.194313</td>\n",
       "      <td>0.132701</td>\n",
       "      <td>1.054502</td>\n",
       "      <td>5384.068720</td>\n",
       "      <td>1504.516398</td>\n",
       "      <td>144.135071</td>\n",
       "      <td>341.43128</td>\n",
       "      <td>0.969194</td>\n",
       "    </tr>\n",
       "  </tbody>\n",
       "</table>\n",
       "</div>"
      ],
      "text/plain": [
       "               Gender   Married  Dependents  Education  Self_Employed  \\\n",
       "Loan_Status                                                             \n",
       "0            0.807292  0.588542    0.729167   0.270833       0.135417   \n",
       "1            0.822275  0.682464    0.751185   0.194313       0.132701   \n",
       "\n",
       "             Property_Area  ApplicantIncome  CoapplicantIncome  LoanAmount  \\\n",
       "Loan_Status                                                                  \n",
       "0                 1.000000      5446.078125        1877.807292  151.432292   \n",
       "1                 1.054502      5384.068720        1504.516398  144.135071   \n",
       "\n",
       "             Loan_Amount_Term  Credit_History  \n",
       "Loan_Status                                    \n",
       "0                   344.56250        0.562500  \n",
       "1                   341.43128        0.969194  "
      ]
     },
     "execution_count": 26,
     "metadata": {},
     "output_type": "execute_result"
    }
   ],
   "source": [
    "df.groupby('Loan_Status').mean()"
   ]
  },
  {
   "cell_type": "code",
   "execution_count": null,
   "id": "9b9f9e92",
   "metadata": {},
   "outputs": [],
   "source": []
  },
  {
   "cell_type": "markdown",
   "id": "c77c7390",
   "metadata": {},
   "source": [
    "# Modelation"
   ]
  },
  {
   "cell_type": "code",
   "execution_count": null,
   "id": "27a38b39",
   "metadata": {},
   "outputs": [],
   "source": []
  },
  {
   "cell_type": "code",
   "execution_count": 27,
   "id": "e88e4e97",
   "metadata": {},
   "outputs": [
    {
     "name": "stdout",
     "output_type": "stream",
     "text": [
      "X_train taille:  (491, 11)\n",
      "X_test  taille:  (123, 11)\n",
      "y_train taille:  (491,)\n",
      "y_test  taille:  (123,)\n"
     ]
    }
   ],
   "source": [
    "# Diviser la base de données en une base de données test et d'entrainement\n",
    "sss = StratifiedShuffleSplit (n_splits=1, test_size=0.2, random_state=42)\n",
    "\n",
    "for train, test in sss.split(X, y):\n",
    "    X_train, X_test = X. iloc[train], X.iloc [test]\n",
    "    y_train, y_test = y.iloc[train], y.iloc[test]\n",
    "\n",
    "print('X_train taille: ', X_train.shape)\n",
    "print('X_test  taille: ', X_test. shape)\n",
    "print('y_train taille: ', y_train.shape)\n",
    "print('y_test  taille: ', y_test.shape)"
   ]
  },
  {
   "cell_type": "code",
   "execution_count": 28,
   "id": "d495bb32",
   "metadata": {},
   "outputs": [
    {
     "name": "stdout",
     "output_type": "stream",
     "text": [
      "LogisticRegression :\n",
      "la precision du modéle est: 0.8536585365853658\n",
      "------------------------------\n",
      "KNeighborsClassifier :\n",
      "la precision du modéle est: 0.6504065040650406\n",
      "------------------------------\n",
      "DecisionTreeClassifier :\n",
      "la precision du modéle est: 0.8455284552845529\n",
      "------------------------------\n"
     ]
    }
   ],
   "source": [
    "# On va appliquer tois algorithmes Logisitic Regression, KNN, DecisionTree\n",
    "\n",
    "import warnings\n",
    "warnings.simplefilter(action='ignore', category=FutureWarning)\n",
    "#pour exécuter sans afficher les avertissements de KNeighborsClassifier\n",
    "\n",
    "models={\n",
    "    'LogisticRegression' : LogisticRegression(random_state=42, max_iter=500),\n",
    "    'KNeighborsClassifier' : KNeighborsClassifier(),\n",
    "    'DecisionTreeClassifier' : DecisionTreeClassifier(max_depth=1, random_state=42)\n",
    "}\n",
    "\n",
    "# La fonction de précision\n",
    "def accu(y_true,y_pred, retu=False):\n",
    "    acc = accuracy_score(y_true,y_pred)\n",
    "    if retu:\n",
    "        return acc\n",
    "    else:\n",
    "        print(f'la precision du modéle est: {acc}')\n",
    "        \n",
    "#c'est la fonction d'application des modéles\n",
    "def train_test_eval(models,X_train, y_train,X_test,y_test):\n",
    "    for name,model in models.items():\n",
    "        print(name, ':')\n",
    "        model.fit(X_train,y_train)\n",
    "        accu(y_test, model.predict(X_test))\n",
    "        print('-'*30)\n",
    "\n",
    "train_test_eval(models,X_train,y_train,X_test,y_test)"
   ]
  },
  {
   "cell_type": "code",
   "execution_count": null,
   "id": "a4e81978",
   "metadata": {},
   "outputs": [],
   "source": []
  },
  {
   "cell_type": "code",
   "execution_count": 29,
   "id": "6a099be4",
   "metadata": {},
   "outputs": [],
   "source": [
    "X2 = X[['Credit_History', 'Married', 'CoapplicantIncome', 'Education']]\n",
    "#X2 = X[['Credit_History', 'Married', 'CoapplicantIncome']]"
   ]
  },
  {
   "cell_type": "code",
   "execution_count": 30,
   "id": "071a48bd",
   "metadata": {},
   "outputs": [
    {
     "data": {
      "text/html": [
       "<div>\n",
       "<style scoped>\n",
       "    .dataframe tbody tr th:only-of-type {\n",
       "        vertical-align: middle;\n",
       "    }\n",
       "\n",
       "    .dataframe tbody tr th {\n",
       "        vertical-align: top;\n",
       "    }\n",
       "\n",
       "    .dataframe thead th {\n",
       "        text-align: right;\n",
       "    }\n",
       "</style>\n",
       "<table border=\"1\" class=\"dataframe\">\n",
       "  <thead>\n",
       "    <tr style=\"text-align: right;\">\n",
       "      <th></th>\n",
       "      <th>Credit_History</th>\n",
       "      <th>Married</th>\n",
       "      <th>CoapplicantIncome</th>\n",
       "      <th>Education</th>\n",
       "    </tr>\n",
       "  </thead>\n",
       "  <tbody>\n",
       "    <tr>\n",
       "      <th>0</th>\n",
       "      <td>1.0</td>\n",
       "      <td>0</td>\n",
       "      <td>0.0</td>\n",
       "      <td>0</td>\n",
       "    </tr>\n",
       "    <tr>\n",
       "      <th>1</th>\n",
       "      <td>1.0</td>\n",
       "      <td>1</td>\n",
       "      <td>1508.0</td>\n",
       "      <td>0</td>\n",
       "    </tr>\n",
       "    <tr>\n",
       "      <th>2</th>\n",
       "      <td>1.0</td>\n",
       "      <td>1</td>\n",
       "      <td>0.0</td>\n",
       "      <td>0</td>\n",
       "    </tr>\n",
       "    <tr>\n",
       "      <th>3</th>\n",
       "      <td>1.0</td>\n",
       "      <td>1</td>\n",
       "      <td>2358.0</td>\n",
       "      <td>1</td>\n",
       "    </tr>\n",
       "    <tr>\n",
       "      <th>4</th>\n",
       "      <td>1.0</td>\n",
       "      <td>0</td>\n",
       "      <td>0.0</td>\n",
       "      <td>0</td>\n",
       "    </tr>\n",
       "    <tr>\n",
       "      <th>...</th>\n",
       "      <td>...</td>\n",
       "      <td>...</td>\n",
       "      <td>...</td>\n",
       "      <td>...</td>\n",
       "    </tr>\n",
       "    <tr>\n",
       "      <th>609</th>\n",
       "      <td>1.0</td>\n",
       "      <td>0</td>\n",
       "      <td>0.0</td>\n",
       "      <td>0</td>\n",
       "    </tr>\n",
       "    <tr>\n",
       "      <th>610</th>\n",
       "      <td>1.0</td>\n",
       "      <td>1</td>\n",
       "      <td>0.0</td>\n",
       "      <td>0</td>\n",
       "    </tr>\n",
       "    <tr>\n",
       "      <th>611</th>\n",
       "      <td>1.0</td>\n",
       "      <td>1</td>\n",
       "      <td>240.0</td>\n",
       "      <td>0</td>\n",
       "    </tr>\n",
       "    <tr>\n",
       "      <th>612</th>\n",
       "      <td>1.0</td>\n",
       "      <td>1</td>\n",
       "      <td>0.0</td>\n",
       "      <td>0</td>\n",
       "    </tr>\n",
       "    <tr>\n",
       "      <th>613</th>\n",
       "      <td>0.0</td>\n",
       "      <td>0</td>\n",
       "      <td>0.0</td>\n",
       "      <td>0</td>\n",
       "    </tr>\n",
       "  </tbody>\n",
       "</table>\n",
       "<p>614 rows × 4 columns</p>\n",
       "</div>"
      ],
      "text/plain": [
       "     Credit_History  Married  CoapplicantIncome  Education\n",
       "0               1.0        0                0.0          0\n",
       "1               1.0        1             1508.0          0\n",
       "2               1.0        1                0.0          0\n",
       "3               1.0        1             2358.0          1\n",
       "4               1.0        0                0.0          0\n",
       "..              ...      ...                ...        ...\n",
       "609             1.0        0                0.0          0\n",
       "610             1.0        1                0.0          0\n",
       "611             1.0        1              240.0          0\n",
       "612             1.0        1                0.0          0\n",
       "613             0.0        0                0.0          0\n",
       "\n",
       "[614 rows x 4 columns]"
      ]
     },
     "execution_count": 30,
     "metadata": {},
     "output_type": "execute_result"
    }
   ],
   "source": [
    "X2"
   ]
  },
  {
   "cell_type": "code",
   "execution_count": 31,
   "id": "30c1774f",
   "metadata": {},
   "outputs": [
    {
     "name": "stdout",
     "output_type": "stream",
     "text": [
      "X_train taille:  (491, 4)\n",
      "X_test  taille:  (123, 4)\n",
      "y_train taille:  (491,)\n",
      "y_test  taille:  (123,)\n"
     ]
    }
   ],
   "source": [
    "# Diviser la base de données en une base de données test et d'entrainement\n",
    "sss = StratifiedShuffleSplit (n_splits=1, test_size=0.2, random_state=42)\n",
    "\n",
    "for train, test in sss.split(X2, y):\n",
    "    X_train, X_test = X2. iloc[train], X2.iloc[test]\n",
    "    y_train, y_test = y.iloc[train], y.iloc[test]\n",
    "\n",
    "print('X_train taille: ', X_train.shape)\n",
    "print('X_test  taille: ', X_test. shape)\n",
    "print('y_train taille: ', y_train.shape)\n",
    "print('y_test  taille: ', y_test.shape)"
   ]
  },
  {
   "cell_type": "code",
   "execution_count": 32,
   "id": "6034adb7",
   "metadata": {},
   "outputs": [
    {
     "name": "stdout",
     "output_type": "stream",
     "text": [
      "LogisticRegression :\n",
      "la precision du modéle est: 0.8536585365853658\n",
      "------------------------------\n",
      "KNeighborsClassifier :\n",
      "la precision du modéle est: 0.6991869918699187\n",
      "------------------------------\n",
      "DecisionTreeClassifier :\n",
      "la precision du modéle est: 0.8455284552845529\n",
      "------------------------------\n"
     ]
    }
   ],
   "source": [
    "train_test_eval(models,X_train,y_train,X_test,y_test)"
   ]
  },
  {
   "cell_type": "code",
   "execution_count": 33,
   "id": "30a58c60",
   "metadata": {},
   "outputs": [
    {
     "data": {
      "text/plain": [
       "LogisticRegression()"
      ]
     },
     "execution_count": 33,
     "metadata": {},
     "output_type": "execute_result"
    }
   ],
   "source": [
    "# Appliquer la regression logisitique sur notre base de donnée\n",
    "Classifier = LogisticRegression()\n",
    "Classifier.fit(X2,y)"
   ]
  },
  {
   "cell_type": "code",
   "execution_count": 34,
   "id": "d8cc8e4a",
   "metadata": {},
   "outputs": [],
   "source": [
    "# Enregistrer le modéle\n",
    "pickle.dump(Classifier, open('model.pkl', 'wb'))"
   ]
  },
  {
   "cell_type": "code",
   "execution_count": null,
   "id": "23d01ec9",
   "metadata": {},
   "outputs": [],
   "source": []
  },
  {
   "cell_type": "code",
   "execution_count": null,
   "id": "e68aeb7c",
   "metadata": {},
   "outputs": [],
   "source": []
  },
  {
   "cell_type": "code",
   "execution_count": null,
   "id": "8853c4d7",
   "metadata": {},
   "outputs": [],
   "source": []
  },
  {
   "cell_type": "code",
   "execution_count": null,
   "id": "44ab9e3b",
   "metadata": {},
   "outputs": [],
   "source": []
  }
 ],
 "metadata": {
  "kernelspec": {
   "display_name": "Python 3 (ipykernel)",
   "language": "python",
   "name": "python3"
  },
  "language_info": {
   "codemirror_mode": {
    "name": "ipython",
    "version": 3
   },
   "file_extension": ".py",
   "mimetype": "text/x-python",
   "name": "python",
   "nbconvert_exporter": "python",
   "pygments_lexer": "ipython3",
   "version": "3.9.13"
  }
 },
 "nbformat": 4,
 "nbformat_minor": 5
}
